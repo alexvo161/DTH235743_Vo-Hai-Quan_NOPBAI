{
  "nbformat": 4,
  "nbformat_minor": 0,
  "metadata": {
    "colab": {
      "provenance": [],
      "mount_file_id": "1XOL2Su33YtF-ZQKuR-kF2Wg1ObUcTyWJ",
      "authorship_tag": "ABX9TyMAf1fLu+3fdrK2YCxqizSM",
      "include_colab_link": true
    },
    "kernelspec": {
      "name": "python3",
      "display_name": "Python 3"
    },
    "language_info": {
      "name": "python"
    }
  },
  "cells": [
    {
      "cell_type": "markdown",
      "metadata": {
        "id": "view-in-github",
        "colab_type": "text"
      },
      "source": [
        "<a href=\"https://colab.research.google.com/github/alexvo161/DTH235743_Vo-Hai-Quan_NOPBAI/blob/main/BaiTapChuong1.ipynb\" target=\"_parent\"><img src=\"https://colab.research.google.com/assets/colab-badge.svg\" alt=\"Open In Colab\"/></a>"
      ]
    },
    {
      "cell_type": "code",
      "execution_count": 1,
      "metadata": {
        "colab": {
          "base_uri": "https://localhost:8080/"
        },
        "id": "iLvNA7EcP3UA",
        "outputId": "c9ee1ad7-4700-4c0a-d975-18c0adb58585"
      },
      "outputs": [
        {
          "output_type": "stream",
          "name": "stdout",
          "text": [
            "Nhập số thứ nhất: 1\n",
            "Nhập số thứ hai: 5\n",
            "Tổng hai số là:  6\n"
          ]
        }
      ],
      "source": [
        "# Nhập hai số từ bàn phím\n",
        "so1 = int(input(\"Nhập số thứ nhất: \"))\n",
        "so2 = int(input(\"Nhập số thứ hai: \"))\n",
        "\n",
        "# Tính tổng\n",
        "tong = so1 + so2\n",
        "\n",
        "# Hiển thị kết quả\n",
        "print(\"Tổng hai số là: \", tong)\n"
      ]
    },
    {
      "cell_type": "code",
      "source": [
        "print(\"albert einstein đã từng nói: Một người không bao giờ mắc sai lầm không bao giờ thử bất kỳ điều gì mới. \")"
      ],
      "metadata": {
        "colab": {
          "base_uri": "https://localhost:8080/"
        },
        "id": "TcXLDYmNRIt2",
        "outputId": "9c27e75c-e0af-486e-a073-5a5ebe3e3b58"
      },
      "execution_count": 3,
      "outputs": [
        {
          "output_type": "stream",
          "name": "stdout",
          "text": [
            "albert einstein đã từng nói: Một người không bao giờ mắc sai lầm không bao giờ thử bất kỳ điều gì mới. \n"
          ]
        }
      ]
    },
    {
      "cell_type": "code",
      "source": [
        "if 5>2:\n",
        "  print ('Five is greater than two!')"
      ],
      "metadata": {
        "colab": {
          "base_uri": "https://localhost:8080/"
        },
        "id": "SLKHqAZfSJWX",
        "outputId": "c533ac6d-3dd5-4233-bd4e-452a5d8598bc"
      },
      "execution_count": 4,
      "outputs": [
        {
          "output_type": "stream",
          "name": "stdout",
          "text": [
            "Five is greater than two!\n"
          ]
        }
      ]
    },
    {
      "cell_type": "code",
      "source": [
        "if True:\n",
        " print('True')\n",
        "else:\n",
        "  print('False')\n"
      ],
      "metadata": {
        "colab": {
          "base_uri": "https://localhost:8080/"
        },
        "id": "etmd1PJVTbW-",
        "outputId": "bcaa1b7a-de7f-4d77-e3f7-e33f6476c27a"
      },
      "execution_count": 6,
      "outputs": [
        {
          "output_type": "stream",
          "name": "stdout",
          "text": [
            "True\n"
          ]
        }
      ]
    },
    {
      "cell_type": "code",
      "source": [
        "#This is a comment\n",
        "print('Hello, World')"
      ],
      "metadata": {
        "colab": {
          "base_uri": "https://localhost:8080/"
        },
        "id": "7DcFYZ1RTj1p",
        "outputId": "3b467a70-3e26-4264-ba5d-da9de4db3104"
      },
      "execution_count": 7,
      "outputs": [
        {
          "output_type": "stream",
          "name": "stdout",
          "text": [
            "Hello, World\n"
          ]
        }
      ]
    },
    {
      "cell_type": "code",
      "source": [
        "total = 1 + \\\n",
        "2 + \\\n",
        "3\n",
        "print(total); print ('Hello Python!')"
      ],
      "metadata": {
        "colab": {
          "base_uri": "https://localhost:8080/"
        },
        "id": "2ZFzG0K4UVM0",
        "outputId": "d57cca19-e8d2-45c6-f4df-f392981a2292"
      },
      "execution_count": 8,
      "outputs": [
        {
          "output_type": "stream",
          "name": "stdout",
          "text": [
            "6\n",
            "Hello Python!\n"
          ]
        }
      ]
    },
    {
      "cell_type": "code",
      "source": [
        "%%writefile math_libs.py\n",
        "def add(a, b):\n",
        "  result = a + b\n",
        "  return result\n"
      ],
      "metadata": {
        "colab": {
          "base_uri": "https://localhost:8080/"
        },
        "id": "b7sv8lQwUp1a",
        "outputId": "24a29164-3ec2-4269-a694-7b0ed1921096"
      },
      "execution_count": 14,
      "outputs": [
        {
          "output_type": "stream",
          "name": "stdout",
          "text": [
            "Overwriting math_libs.py\n"
          ]
        }
      ]
    },
    {
      "cell_type": "code",
      "source": [
        "import math_libs\n",
        "math_libs.add(5,5)\n"
      ],
      "metadata": {
        "colab": {
          "base_uri": "https://localhost:8080/"
        },
        "id": "ZTD5akNEeutr",
        "outputId": "8fe28d14-f18d-4adf-acff-49611bd9b5f7"
      },
      "execution_count": 23,
      "outputs": [
        {
          "output_type": "execute_result",
          "data": {
            "text/plain": [
              "10"
            ]
          },
          "metadata": {},
          "execution_count": 23
        }
      ]
    },
    {
      "cell_type": "code",
      "source": [
        "%%writefile module1.py\n",
        "# module1.py\n",
        "question = ' What is the meaning of life, the Universe, and Everything?'\n",
        "answer = 42"
      ],
      "metadata": {
        "colab": {
          "base_uri": "https://localhost:8080/"
        },
        "id": "CenncYxjewXW",
        "outputId": "f1ef1fb3-5660-4039-a1a1-3ea7d269a7f7"
      },
      "execution_count": 27,
      "outputs": [
        {
          "output_type": "stream",
          "name": "stdout",
          "text": [
            "Writing module1.py\n"
          ]
        }
      ]
    },
    {
      "cell_type": "code",
      "source": [
        "%%writefile module2.py\n",
        "# module2.py\n",
        "question = ' What is your quest?'\n",
        "answer = ' To seek the holly grail.'"
      ],
      "metadata": {
        "colab": {
          "base_uri": "https://localhost:8080/"
        },
        "id": "rnlaDILFe4S9",
        "outputId": "cf48dd57-4282-4984-d6be-1eaab33a164a"
      },
      "execution_count": 28,
      "outputs": [
        {
          "output_type": "stream",
          "name": "stdout",
          "text": [
            "Writing module2.py\n"
          ]
        }
      ]
    },
    {
      "cell_type": "code",
      "source": [
        "# module1.py\n",
        "question = ' What is the meaning of life, the Universe, and Everything?'\n",
        "answer = 42\n",
        "\n",
        "# module2.py\n",
        "question = ' What is your quest?'\n",
        "answer = ' To seek the holly grail.'\n",
        "\n",
        "\n",
        "import module1\n",
        "import module2\n",
        "print(module1.question)\n",
        "print(module2.question)\n",
        "print(module1.answer)\n",
        "print(module2.answer)\n"
      ],
      "metadata": {
        "colab": {
          "base_uri": "https://localhost:8080/"
        },
        "id": "dQ_3gahJe8W1",
        "outputId": "339a1485-c5c8-443b-90d2-484c018df58c"
      },
      "execution_count": 29,
      "outputs": [
        {
          "output_type": "stream",
          "name": "stdout",
          "text": [
            " What is the meaning of life, the Universe, and Everything?\n",
            " What is your quest?\n",
            "42\n",
            " To seek the holly grail.\n"
          ]
        }
      ]
    }
  ]
}